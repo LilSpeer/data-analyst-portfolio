{
 "cells": [
  {
   "cell_type": "markdown",
   "id": "dc4cea06",
   "metadata": {},
   "source": [
    "# California LAUS (Local Area Unemployment Statistics) Analysis\n",
    "\n",
    "## Project Overview\n",
    "This project analyzes California’s labor market using **Local Area Unemployment Statistics (LAUS)** data.  \n",
    "The raw CSV files are cleaned and standardized, then used to explore unemployment trends at the **county** and **regional** levels.  \n",
    "\n",
    "The notebook is designed to:\n",
    "- Provide a **transparent, reproducible workflow** for LAUS data analysis.  \n",
    "- Recreate Excel dashboards into **interactive visualizations** with Plotly.  \n",
    "- Highlight key **county and regional unemployment trends** from 2015–2025.\n",
    "\n",
    "---\n",
    "\n",
    "## Goals\n",
    "1. **Clean & Merge** raw LAUS datasets into one standardized dataset.  \n",
    "2. **Map Areas → Counties → Regions** for more meaningful geographic comparisons.  \n",
    "3. **Visualize Trends** with interactive charts:  \n",
    "   - County-level comparisons   \n",
    "   - Regional unemployment trends and comparisons  \n",
    "4. **Derive Insights** to better understand California’s labor market patterns.  \n",
    "\n",
    "---\n"
   ]
  },
  {
   "cell_type": "code",
   "execution_count": 11,
   "id": "0732059e",
   "metadata": {},
   "outputs": [
    {
     "name": "stdout",
     "output_type": "stream",
     "text": [
      "Looking for files in: c:\\Users\\Austin\\Documents\\GitHubRepo\\data-analyst-portfolio\\Excel\\california_laus_project\\data\n",
      "Files found: ['..\\\\data\\\\ca-msa-sa-labor-force-2506.csv', '..\\\\data\\\\cleaned_data.csv', '..\\\\data\\\\cleaned_data_notebook.csv']\n",
      "Saving to: c:\\Users\\Austin\\Documents\\GitHubRepo\\data-analyst-portfolio\\Excel\\california_laus_project\\data\\cleaned_data_notebook.csv\n",
      "Data cleaned and saved to 'cleaned_data_notebook.csv'.\n"
     ]
    }
   ],
   "source": [
    "import pandas as pd\n",
    "import glob\n",
    "import os\n",
    "\n",
    "# Built-in mapping from CA area names to (County, Region)\n",
    "AREA_TO_COUNTY_REGION = {\n",
    "    \"Anaheim-Santa Ana-Irvine, CA Met Div\": (\"Orange County\", \"Southern California\"),\n",
    "    \"Oakland-Fremont-Berkeley, CA Met Div\": (\"Alameda County; Contra Costa County\", \"Bay Area\"),\n",
    "    \"San Francisco-San Mateo-Redwood City, CA Met Div\": (\"San Francisco County; San Mateo County\", \"Bay Area\"),\n",
    "    \"Bakersfield-Delano, CA MSA\": (\"Kern County\", \"Central Valley\"),\n",
    "    \"El Centro, CA MSA\": (\"Imperial County\", \"Southern California\"),\n",
    "    \"San Rafael, CA Met Div\": (\"Marin County\", \"Bay Area\"),\n",
    "    \"Los Angeles-Long Beach-Anaheim, CA MSA\": (\"Los Angeles County; Orange County\", \"Southern California\"),\n",
    "    \"Sacramento-Roseville-Folsom, CA MSA\": (\"Sacramento County; Placer County; El Dorado County; Yolo County\", \"Northern California\"),\n",
    "    \"Los Angeles-Long Beach-Glendale, CA Met Div\": (\"Los Angeles County\", \"Southern California\"),\n",
    "    \"San Diego-Carlsbad, CA MSA\": (\"San Diego County\", \"Southern California\"),\n",
    "    \"Oxnard-Thousand Oaks-Ventura, CA MSA\": (\"Ventura County\", \"Southern California\"),\n",
    "    \"San Diego-Chula Vista-Carlsbad, CA MSA\": (\"San Diego County\", \"Southern California\"),\n",
    "    \"Riverside-San Bernardino-Ontario, CA MSA\": (\"Riverside County; San Bernardino County\", \"Inland Empire\"),\n",
    "    \"San Francisco-Redwood City-South San Francisco, CA Met Div\": (\"San Francisco County; San Mateo County\", \"Bay Area\"),\n",
    "    \"Oakland-Hayward-Berkeley, CA Met Div\": (\"Alameda County; Contra Costa County\", \"Bay Area\"),\n",
    "    \"San Francisco-Oakland-Fremont, CA MSA\": (\"San Francisco County; Alameda County; Contra Costa County\", \"Bay Area\"),\n",
    "    \"San Jose-Sunnyvale-Santa Clara, CA MSA\": (\"Santa Clara County; San Benito County\", \"Bay Area\"),\n",
    "    \"Vallejo-Fairfield, CA MSA\": (\"Solano County\", \"Bay Area\"),\n",
    "    \"Napa, CA MSA\": (\"Napa County\", \"Bay Area\"),\n",
    "    \"Santa Rosa-Petaluma, CA MSA\": (\"Sonoma County\", \"Bay Area\"),\n",
    "    \"Santa Cruz-Watsonville, CA MSA\": (\"Santa Cruz County\", \"Central Coast\"),\n",
    "    \"Salinas, CA MSA\": (\"Monterey County\", \"Central Coast\"),\n",
    "    \"San Luis Obispo-Paso Robles-Arroyo Grande, CA MSA\": (\"San Luis Obispo County\", \"Central Coast\"),\n",
    "    \"Santa Maria-Santa Barbara, CA MSA\": (\"Santa Barbara County\", \"Central Coast\"),\n",
    "    \"Bakersfield, CA MSA\": (\"Kern County\", \"Central Valley\"),\n",
    "    \"Fresno, CA MSA\": (\"Fresno County\", \"Central Valley\"),\n",
    "    \"Hanford-Corcoran, CA MSA\": (\"Kings County\", \"Central Valley\"),\n",
    "    \"Madera, CA MSA\": (\"Madera County\", \"Central Valley\"),\n",
    "    \"Merced, CA MSA\": (\"Merced County\", \"Central Valley\"),\n",
    "    \"Modesto, CA MSA\": (\"Stanislaus County\", \"Central Valley\"),\n",
    "    \"Stockton-Lodi, CA MSA\": (\"San Joaquin County\", \"Central Valley\"),\n",
    "    \"Visalia-Porterville, CA MSA\": (\"Tulare County\", \"Central Valley\"),\n",
    "    \"Yuba City, CA MSA\": (\"Sutter County; Yuba County\", \"Northern California\"),\n",
    "    \"Chico, CA MSA\": (\"Butte County\", \"Northern California\"),\n",
    "    \"Redding, CA MSA\": (\"Shasta County\", \"Northern California\"),\n",
    "    \"Sacramento-Roseville-Arden-Arcade, CA MSA\": (\"Sacramento County; Placer County; El Dorado County; Yolo County\", \"Northern California\"),\n",
    "}\n",
    "\n",
    "\n",
    "def load_area_mapping(optional_csv_path: str) -> dict:\n",
    "    mapping = dict(AREA_TO_COUNTY_REGION)\n",
    "    return mapping\n",
    "\n",
    "\n",
    "def map_county_region(area_name: str, mapping: dict) -> tuple:\n",
    "    if not isinstance(area_name, str):\n",
    "        return (\"Unknown\", \"Unknown\")\n",
    "    name = area_name.strip()\n",
    "    if name in mapping:\n",
    "        return mapping[name]\n",
    "    # Attempt to trim known suffixes and match\n",
    "    suffixes = [\", CA Met Div\", \", CA MSA\", \", CA\"]\n",
    "    for suffix in suffixes:\n",
    "        if name.endswith(suffix):\n",
    "            trimmed = name[: -len(suffix)]\n",
    "            for key in mapping.keys():\n",
    "                if key.startswith(trimmed):\n",
    "                    return mapping[key]\n",
    "    return (\"Unknown\", \"Unknown\")\n",
    "\n",
    "\n",
    "path = os.path.join(\"..\", \"data\", \"*.csv\")\n",
    "\n",
    "all_files = glob.glob(path)\n",
    "print(\"Looking for files in:\", os.path.abspath(os.path.join(\"..\", \"data\")))\n",
    "print(\"Files found:\", all_files)\n",
    "\n",
    "if not all_files:\n",
    "    raise FileNotFoundError(\"No CSV files found in the data folder. Check path!\")\n",
    "\n",
    "# Load all CSVs\n",
    "df_list = [pd.read_csv(file, encoding='utf-8') for file in all_files]\n",
    "df = pd.concat(df_list, ignore_index=True)\n",
    "\n",
    "df.columns = df.columns.str.strip()\n",
    "\n",
    "# Convert Year to integer\n",
    "\n",
    "df['Year'] = pd.to_numeric(df['Year'], errors='coerce')\n",
    "df = df[df['Year'].notna()]\n",
    "df['Year'] = df['Year'].astype(int)\n",
    "\n",
    "columns_to_keep = [\"Area Name\", \"Year\", \"Month\", \"Labor Force\", \"Employment\", \"Unemployment\", \"Unemployment Rate\"]\n",
    "df = df[columns_to_keep]\n",
    "\n",
    "# Assign County and Region based on Area Name\n",
    "mapping_csv = 'Excel/california_laus_project/data/area_to_county_region.csv'\n",
    "area_mapping = load_area_mapping(mapping_csv)\n",
    "df[[\"County\", \"Region\"]] = df[\"Area Name\"].apply(lambda n: pd.Series(map_county_region(n, area_mapping)))\n",
    "\n",
    "\n",
    "df = df[df[\"Year\"] >= 2015] # Filter for last 10 years (2015-2025)\n",
    "\n",
    "output_path = os.path.abspath(os.path.join(\"..\", \"data\", \"cleaned_data_notebook.csv\"))\n",
    "print(\"Saving to:\", output_path)\n",
    "\n",
    "df.to_csv(output_path, index=False)\n",
    "print(\"Data cleaned and saved to 'cleaned_data_notebook.csv'.\")"
   ]
  },
  {
   "cell_type": "markdown",
   "id": "becd0fb8",
   "metadata": {},
   "source": [
    "## Exploratory Visualizations\n",
    "\n",
    "We now create three interactive visuals that replicate and expand upon the Excel dashboard PDFs:\n",
    "\n",
    "1. **County-level comparison line graph** – compares unemployment rates across counties.  \n",
    "2. **County unemployment trends by year** – shows year-over-year trends for each county.  \n",
    "3. **Regional unemployment trends** – compares broader regions of California.  \n",
    "\n",
    "All figures are interactive:  \n",
    "- Hover tooltips  \n",
    "- Zoom & pan  \n",
    "- Clickable legends to show/hide counties/regions  \n"
   ]
  },
  {
   "cell_type": "code",
   "execution_count": null,
   "id": "d76f55c9",
   "metadata": {},
   "outputs": [
    {
     "name": "stdout",
     "output_type": "stream",
     "text": [
      "Unemployment Rate dtype after cleaning: float64\n",
      "Any NaNs in Unemployment Rate after cleaning? 0\n",
      "county_trends head:\n",
      "    Year                               County  Unemployment Rate\n",
      "0  2015  Alameda County; Contra Costa County           4.875000\n",
      "1  2015                         Butte County           7.208333\n",
      "2  2015                        Fresno County          10.266667\n",
      "3  2015                      Imperial County          24.750000\n",
      "4  2015                          Kern County          10.225000\n"
     ]
    },
    {
     "data": {
      "application/vnd.plotly.v1+json": {
       "config": {
        "plotlyServerURL": "https://plot.ly"
       },
       "data": [
        {
         "hovertemplate": "County=Alameda County; Contra Costa County<br>Year=%{x}<br>Unemployment Rate (%)=%{y}<extra></extra>",
         "legendgroup": "Alameda County; Contra Costa County",
         "line": {
          "color": "#636efa",
          "dash": "solid"
         },
         "marker": {
          "symbol": "circle"
         },
         "mode": "lines+markers",
         "name": "Alameda County; Contra Costa County",
         "orientation": "v",
         "showlegend": true,
         "type": "scatter",
         "x": {
          "bdata": "3wfgB+EH4gfjB+QH5QfmB+cH6AfpBw==",
          "dtype": "i2"
         },
         "xaxis": "x",
         "y": {
          "bdata": "AAAAAACAE0De3d3d3d0QQO/u7u7u7gxAERERERERCEAzMzMzMzMHQHd3d3d3NyFAAAAAAAAAGEAzMzMzMzMKQLy7u7u7uw5A3t3d3d3dEUAzMzMzMzMSQA==",
          "dtype": "f8"
         },
         "yaxis": "y"
        },
        {
         "hovertemplate": "County=Butte County<br>Year=%{x}<br>Unemployment Rate (%)=%{y}<extra></extra>",
         "legendgroup": "Butte County",
         "line": {
          "color": "#EF553B",
          "dash": "solid"
         },
         "marker": {
          "symbol": "circle"
         },
         "mode": "lines+markers",
         "name": "Butte County",
         "orientation": "v",
         "showlegend": true,
         "type": "scatter",
         "x": {
          "bdata": "3wfgB+EH4gfjB+QH5QfmB+cH6AfpBw==",
          "dtype": "i2"
         },
         "xaxis": "x",
         "y": {
          "bdata": "VVVVVVXVHEB4d3d3d/caQDMzMzMzsxdAREREREREFEDv7u7u7u4TQLy7u7u7+yJA3d3d3d3dG0DNzMzMzEwSQERERERExBRAMzMzMzOzF0AzMzMzMzMXQA==",
          "dtype": "f8"
         },
         "yaxis": "y"
        },
        {
         "hovertemplate": "County=Fresno County<br>Year=%{x}<br>Unemployment Rate (%)=%{y}<extra></extra>",
         "legendgroup": "Fresno County",
         "line": {
          "color": "#00cc96",
          "dash": "solid"
         },
         "marker": {
          "symbol": "circle"
         },
         "mode": "lines+markers",
         "name": "Fresno County",
         "orientation": "v",
         "showlegend": true,
         "type": "scatter",
         "x": {
          "bdata": "3wfgB+EH4gfjB+QH5QfmB+cH6AfpBw==",
          "dtype": "i2"
         },
         "xaxis": "x",
         "y": {
          "bdata": "iYiIiIiIJEDe3d3d3R0jQKuqqqqqKiFA7+7u7u5uHkBEREREREQdQFVVVVVVVSdAd3d3d3c3IkDv7u7u7m4aQIiIiIiIiB1AmZmZmZmZH0B4d3d3d3cfQA==",
          "dtype": "f8"
         },
         "yaxis": "y"
        },
        {
         "hovertemplate": "County=Imperial County<br>Year=%{x}<br>Unemployment Rate (%)=%{y}<extra></extra>",
         "legendgroup": "Imperial County",
         "line": {
          "color": "#ab63fa",
          "dash": "solid"
         },
         "marker": {
          "symbol": "circle"
         },
         "mode": "lines+markers",
         "name": "Imperial County",
         "orientation": "v",
         "showlegend": true,
         "type": "scatter",
         "x": {
          "bdata": "3wfgB+EH4gfjB+QH5QfmB+cH6AfpBw==",
          "dtype": "i2"
         },
         "xaxis": "x",
         "y": {
          "bdata": "AAAAAADAOEC8u7u7u3s4QN7d3d3d/TNA7+7u7u4OM0B3d3d3d/c0QO/u7u7uDjdAiYiIiIgIMkCIiIiIiIguQKuqqqqqijFAAAAAAABgMkBVVVVVVZUyQA==",
          "dtype": "f8"
         },
         "yaxis": "y"
        },
        {
         "hovertemplate": "County=Kern County<br>Year=%{x}<br>Unemployment Rate (%)=%{y}<extra></extra>",
         "legendgroup": "Kern County",
         "line": {
          "color": "#FFA15A",
          "dash": "solid"
         },
         "marker": {
          "symbol": "circle"
         },
         "mode": "lines+markers",
         "name": "Kern County",
         "orientation": "v",
         "showlegend": true,
         "type": "scatter",
         "x": {
          "bdata": "3wfgB+EH4gfjB+QH5QfmB+cH6AfpBw==",
          "dtype": "i2"
         },
         "xaxis": "x",
         "y": {
          "bdata": "MzMzMzNzJEAREREREdEkQAAAAAAAgCJAZ2ZmZmYmIEAzMzMzMzMfQLy7u7u7eylAIiIiIiLiI0CrqqqqqiocQImIiIiISCBAmZmZmZlZIUAiIiIiIiIhQA==",
          "dtype": "f8"
         },
         "yaxis": "y"
        },
        {
         "hovertemplate": "County=Kings County<br>Year=%{x}<br>Unemployment Rate (%)=%{y}<extra></extra>",
         "legendgroup": "Kings County",
         "line": {
          "color": "#19d3f3",
          "dash": "solid"
         },
         "marker": {
          "symbol": "circle"
         },
         "mode": "lines+markers",
         "name": "Kings County",
         "orientation": "v",
         "showlegend": true,
         "type": "scatter",
         "x": {
          "bdata": "3wfgB+EH4gfjB+QH5QfmB+cH6AfpBw==",
          "dtype": "i2"
         },
         "xaxis": "x",
         "y": {
          "bdata": "mZmZmZkZJUCamZmZmdkkQBERERERkSJAiYiIiIiIIECrqqqqqqogQM3MzMzMjChAvLu7u7s7JECZmZmZmZkdQCIiIiIi4iBAERERERHRIUC8u7u7u7shQA==",
          "dtype": "f8"
         },
         "yaxis": "y"
        },
        {
         "hovertemplate": "County=Los Angeles County; Orange County<br>Year=%{x}<br>Unemployment Rate (%)=%{y}<extra></extra>",
         "legendgroup": "Los Angeles County; Orange County",
         "line": {
          "color": "#FF6692",
          "dash": "solid"
         },
         "marker": {
          "symbol": "circle"
         },
         "mode": "lines+markers",
         "name": "Los Angeles County; Orange County",
         "orientation": "v",
         "showlegend": true,
         "type": "scatter",
         "x": {
          "bdata": "3wfgB+EH4gfjB+QH5QfmB+cH6AfpBw==",
          "dtype": "i2"
         },
         "xaxis": "x",
         "y": {
          "bdata": "ERERERGRGEAAAAAAAAAUQGdmZmZm5hFAZ2ZmZmbmEEBVVVVVVVUQQIiIiIiICCdAiYiIiIiIIEARERERERESQM3MzMzMzBJAZ2ZmZmZmFUCIiIiIiIgVQA==",
          "dtype": "f8"
         },
         "yaxis": "y"
        },
        {
         "hovertemplate": "County=Marin County<br>Year=%{x}<br>Unemployment Rate (%)=%{y}<extra></extra>",
         "legendgroup": "Marin County",
         "line": {
          "color": "#B6E880",
          "dash": "solid"
         },
         "marker": {
          "symbol": "circle"
         },
         "mode": "lines+markers",
         "name": "Marin County",
         "orientation": "v",
         "showlegend": true,
         "type": "scatter",
         "x": {
          "bdata": "3wfgB+EH4gfjB+QH5QfmB+cH6AfpBw==",
          "dtype": "i2"
         },
         "xaxis": "x",
         "y": {
          "bdata": "iIiIiIiIDEBnZmZmZmYMQN3d3d3d3QhA7+7u7u7uBEAREREREREEQBERERERER1Ad3d3d3d3E0DNzMzMzMwGQLy7u7u7uwtAiIiIiIiID0B4d3d3d3cPQA==",
          "dtype": "f8"
         },
         "yaxis": "y"
        },
        {
         "hovertemplate": "County=Merced County<br>Year=%{x}<br>Unemployment Rate (%)=%{y}<extra></extra>",
         "legendgroup": "Merced County",
         "line": {
          "color": "#FF97FF",
          "dash": "solid"
         },
         "marker": {
          "symbol": "circle"
         },
         "mode": "lines+markers",
         "name": "Merced County",
         "orientation": "v",
         "showlegend": true,
         "type": "scatter",
         "x": {
          "bdata": "3wfgB+EH4gfjB+QH5QfmB+cH6AfpBw==",
          "dtype": "i2"
         },
         "xaxis": "x",
         "y": {
          "bdata": "VVVVVVXVJkBVVVVVVVUlQO/u7u7u7iJAZ2ZmZmbmIEBVVVVVVVUgQCMiIiIi4ihAvLu7u7t7JEBVVVVVVdUfQAAAAAAAACJAERERERGRI0BnZmZmZmYjQA==",
          "dtype": "f8"
         },
         "yaxis": "y"
        },
        {
         "hovertemplate": "County=Monterey County<br>Year=%{x}<br>Unemployment Rate (%)=%{y}<extra></extra>",
         "legendgroup": "Monterey County",
         "line": {
          "color": "#FECB52",
          "dash": "solid"
         },
         "marker": {
          "symbol": "circle"
         },
         "mode": "lines+markers",
         "name": "Monterey County",
         "orientation": "v",
         "showlegend": true,
         "type": "scatter",
         "x": {
          "bdata": "3wfgB+EH4gfjB+QH5QfmB+cH6AfpBw==",
          "dtype": "i2"
         },
         "xaxis": "x",
         "y": {
          "bdata": "zczMzMxMIEBnZmZmZmYfQERERERERB1AmZmZmZkZGkCrqqqqqqoZQLy7u7u7eyZAERERERHRIECrqqqqqqoYQJmZmZmZGRxAIyIiIiIiHUCZmZmZmZkcQA==",
          "dtype": "f8"
         },
         "yaxis": "y"
        },
        {
         "hovertemplate": "County=Napa County<br>Year=%{x}<br>Unemployment Rate (%)=%{y}<extra></extra>",
         "legendgroup": "Napa County",
         "line": {
          "color": "#636efa",
          "dash": "solid"
         },
         "marker": {
          "symbol": "circle"
         },
         "mode": "lines+markers",
         "name": "Napa County",
         "orientation": "v",
         "showlegend": true,
         "type": "scatter",
         "x": {
          "bdata": "3wfgB+EH4gfjB+QH5QfmB+cH6AfpBw==",
          "dtype": "i2"
         },
         "xaxis": "x",
         "y": {
          "bdata": "7+7u7u5uEkDNzMzMzEwRQFVVVVVVVQ1AzczMzMzMB0Dd3d3d3d0GQHd3d3d39yFAREREREREGEDv7u7u7u4JQFVVVVVVVQtAMzMzMzMzD0C7u7u7u7sPQA==",
          "dtype": "f8"
         },
         "yaxis": "y"
        },
        {
         "hovertemplate": "County=Orange County<br>Year=%{x}<br>Unemployment Rate (%)=%{y}<extra></extra>",
         "legendgroup": "Orange County",
         "line": {
          "color": "#EF553B",
          "dash": "solid"
         },
         "marker": {
          "symbol": "circle"
         },
         "mode": "lines+markers",
         "name": "Orange County",
         "orientation": "v",
         "showlegend": true,
         "type": "scatter",
         "x": {
          "bdata": "3wfgB+EH4gfjB+QH5QfmB+cH6AfpBw==",
          "dtype": "i2"
         },
         "xaxis": "x",
         "y": {
          "bdata": "Z2ZmZmbmEUAzMzMzMzMQQAAAAAAAAAxAq6qqqqqqB0BnZmZmZmYGQBERERER0SFA3d3d3d3dF0CIiIiIiIgJQKuqqqqqqgtAiIiIiIiID0CZmZmZmZkPQA==",
          "dtype": "f8"
         },
         "yaxis": "y"
        },
        {
         "hovertemplate": "County=Riverside County; San Bernardino County<br>Year=%{x}<br>Unemployment Rate (%)=%{y}<extra></extra>",
         "legendgroup": "Riverside County; San Bernardino County",
         "line": {
          "color": "#00cc96",
          "dash": "solid"
         },
         "marker": {
          "symbol": "circle"
         },
         "mode": "lines+markers",
         "name": "Riverside County; San Bernardino County",
         "orientation": "v",
         "showlegend": true,
         "type": "scatter",
         "x": {
          "bdata": "3wfgB+EH4gfjB+QH5QfmB+cH6AfpBw==",
          "dtype": "i2"
         },
         "xaxis": "x",
         "y": {
          "bdata": "3d3d3d1dGkDNzMzMzEwYQM3MzMzMzBRA3t3d3d1dEUDNzMzMzEwQQAAAAAAAwCNA3d3d3d3dHUDv7u7u7u4QQLy7u7u7uxJAZ2ZmZmbmFEDv7u7u7u4UQA==",
          "dtype": "f8"
         },
         "yaxis": "y"
        },
        {
         "hovertemplate": "County=Sacramento County; Placer County; El Dorado County; Yolo County<br>Year=%{x}<br>Unemployment Rate (%)=%{y}<extra></extra>",
         "legendgroup": "Sacramento County; Placer County; El Dorado County; Yolo County",
         "line": {
          "color": "#ab63fa",
          "dash": "solid"
         },
         "marker": {
          "symbol": "circle"
         },
         "mode": "lines+markers",
         "name": "Sacramento County; Placer County; El Dorado County; Yolo County",
         "orientation": "v",
         "showlegend": true,
         "type": "scatter",
         "x": {
          "bdata": "3wfgB+EH4gfjB+QH5QfmB+cH6AfpBw==",
          "dtype": "i2"
         },
         "xaxis": "x",
         "y": {
          "bdata": "eHd3d3d3F0C8u7u7u7sUQGdmZmZm5hFA3d3d3d3dDUCrqqqqqqoMQCIiIiIiYiFA7+7u7u5uGUAjIiIiIiIOQM3MzMzMzBBAq6qqqqqqEkDNzMzMzMwSQA==",
          "dtype": "f8"
         },
         "yaxis": "y"
        },
        {
         "hovertemplate": "County=San Diego County<br>Year=%{x}<br>Unemployment Rate (%)=%{y}<extra></extra>",
         "legendgroup": "San Diego County",
         "line": {
          "color": "#FFA15A",
          "dash": "solid"
         },
         "marker": {
          "symbol": "circle"
         },
         "mode": "lines+markers",
         "name": "San Diego County",
         "orientation": "v",
         "showlegend": true,
         "type": "scatter",
         "x": {
          "bdata": "3wfgB+EH4gfjB+QH5QfmB+cH6AfpBw==",
          "dtype": "i2"
         },
         "xaxis": "x",
         "y": {
          "bdata": "3t3d3d3dFECZmZmZmZkSQKuqqqqqqg9AVVVVVVVVCkBVVVVVVVUJQEVEREREhCJAERERERGRGUBVVVVVVVULQLy7u7u7uw1AzczMzMxMEUCJiIiIiIgRQA==",
          "dtype": "f8"
         },
         "yaxis": "y"
        },
        {
         "hovertemplate": "County=San Francisco County; Alameda County; Contra Costa County<br>Year=%{x}<br>Unemployment Rate (%)=%{y}<extra></extra>",
         "legendgroup": "San Francisco County; Alameda County; Contra Costa County",
         "line": {
          "color": "#19d3f3",
          "dash": "solid"
         },
         "marker": {
          "symbol": "circle"
         },
         "mode": "lines+markers",
         "name": "San Francisco County; Alameda County; Contra Costa County",
         "orientation": "v",
         "showlegend": true,
         "type": "scatter",
         "x": {
          "bdata": "3wfgB+EH4gfjB+QH5QfmB+cH6AfpBw==",
          "dtype": "i2"
         },
         "xaxis": "x",
         "y": {
          "bdata": "mZmZmZkZEUBEREREREQPQBEREREREQtAeHd3d3d3BkAzMzMzMzMFQDMzMzMzsyBAIyIiIiKiFkBVVVVVVVUIQN3d3d3d3QxAMzMzMzOzEEAAAAAAAAARQA==",
          "dtype": "f8"
         },
         "yaxis": "y"
        },
        {
         "hovertemplate": "County=San Francisco County; San Mateo County<br>Year=%{x}<br>Unemployment Rate (%)=%{y}<extra></extra>",
         "legendgroup": "San Francisco County; San Mateo County",
         "line": {
          "color": "#FF6692",
          "dash": "solid"
         },
         "marker": {
          "symbol": "circle"
         },
         "mode": "lines+markers",
         "name": "San Francisco County; San Mateo County",
         "orientation": "v",
         "showlegend": true,
         "type": "scatter",
         "x": {
          "bdata": "3wfgB+EH4gfjB+QH5QfmB+cH6AfpBw==",
          "dtype": "i2"
         },
         "xaxis": "x",
         "y": {
          "bdata": "VVVVVVVVDEC8u7u7u7sLQIiIiIiIiAhAERERERERBEB3d3d3d3cCQCIiIiIiIiBA7+7u7u7uFEBnZmZmZmYFQDMzMzMzMwpAERERERERDkBnZmZmZmYOQA==",
          "dtype": "f8"
         },
         "yaxis": "y"
        },
        {
         "hovertemplate": "County=San Joaquin County<br>Year=%{x}<br>Unemployment Rate (%)=%{y}<extra></extra>",
         "legendgroup": "San Joaquin County",
         "line": {
          "color": "#B6E880",
          "dash": "solid"
         },
         "marker": {
          "symbol": "circle"
         },
         "mode": "lines+markers",
         "name": "San Joaquin County",
         "orientation": "v",
         "showlegend": true,
         "type": "scatter",
         "x": {
          "bdata": "3wfgB+EH4gfjB+QH5QfmB+cH6AfpBw==",
          "dtype": "i2"
         },
         "xaxis": "x",
         "y": {
          "bdata": "zczMzMzMIUAAAAAAAIAfQCMiIiIiIhtAERERERGRF0BnZmZmZuYWQFVVVVVVFSZAMzMzMzOzIEC8u7u7u7sUQN3d3d3d3RdAZ2ZmZmbmGUC8u7u7u7sZQA==",
          "dtype": "f8"
         },
         "yaxis": "y"
        },
        {
         "hovertemplate": "County=San Luis Obispo County<br>Year=%{x}<br>Unemployment Rate (%)=%{y}<extra></extra>",
         "legendgroup": "San Luis Obispo County",
         "line": {
          "color": "#FF97FF",
          "dash": "solid"
         },
         "marker": {
          "symbol": "circle"
         },
         "mode": "lines+markers",
         "name": "San Luis Obispo County",
         "orientation": "v",
         "showlegend": true,
         "type": "scatter",
         "x": {
          "bdata": "3wfgB+EH4gfjB+QH5QfmB+cH6AfpBw==",
          "dtype": "i2"
         },
         "xaxis": "x",
         "y": {
          "bdata": "Z2ZmZmbmEkAzMzMzMzMSQFVVVVVVVQ5AZ2ZmZmZmCUBEREREREQIQFVVVVVVVSBAIyIiIiIiFkDd3d3d3d0JQKuqqqqqqgxAVVVVVVVVEECIiIiIiIgQQA==",
          "dtype": "f8"
         },
         "yaxis": "y"
        },
        {
         "hovertemplate": "County=Santa Barbara County<br>Year=%{x}<br>Unemployment Rate (%)=%{y}<extra></extra>",
         "legendgroup": "Santa Barbara County",
         "line": {
          "color": "#FECB52",
          "dash": "solid"
         },
         "marker": {
          "symbol": "circle"
         },
         "mode": "lines+markers",
         "name": "Santa Barbara County",
         "orientation": "v",
         "showlegend": true,
         "type": "scatter",
         "x": {
          "bdata": "3wfgB+EH4gfjB+QH5QfmB+cH6AfpBw==",
          "dtype": "i2"
         },
         "xaxis": "x",
         "y": {
          "bdata": "vLu7u7s7FUCrqqqqqioUQBERERERERJARERERERED0BEREREREQNQM3MzMzMjCBAREREREREF0AAAAAAAAANQKuqqqqqKhBAZ2ZmZmbmEUC8u7u7u7sRQA==",
          "dtype": "f8"
         },
         "yaxis": "y"
        },
        {
         "hovertemplate": "County=Santa Clara County; San Benito County<br>Year=%{x}<br>Unemployment Rate (%)=%{y}<extra></extra>",
         "legendgroup": "Santa Clara County; San Benito County",
         "line": {
          "color": "#636efa",
          "dash": "solid"
         },
         "marker": {
          "symbol": "circle"
         },
         "mode": "lines+markers",
         "name": "Santa Clara County; San Benito County",
         "orientation": "v",
         "showlegend": true,
         "type": "scatter",
         "x": {
          "bdata": "3wfgB+EH4gfjB+QH5QfmB+cH6AfpBw==",
          "dtype": "i2"
         },
         "xaxis": "x",
         "y": {
          "bdata": "AAAAAAAAEUDNzMzMzMwPQCMiIiIiIgtAVVVVVVVVBkBEREREREQFQJmZmZmZmR1AiYiIiIgIFEC8u7u7u7sGQM3MzMzMzAxAVVVVVVXVEEDe3d3d3d0QQA==",
          "dtype": "f8"
         },
         "yaxis": "y"
        },
        {
         "hovertemplate": "County=Santa Cruz County<br>Year=%{x}<br>Unemployment Rate (%)=%{y}<extra></extra>",
         "legendgroup": "Santa Cruz County",
         "line": {
          "color": "#EF553B",
          "dash": "solid"
         },
         "marker": {
          "symbol": "circle"
         },
         "mode": "lines+markers",
         "name": "Santa Cruz County",
         "orientation": "v",
         "showlegend": true,
         "type": "scatter",
         "x": {
          "bdata": "3wfgB+EH4gfjB+QH5QfmB+cH6AfpBw==",
          "dtype": "i2"
         },
         "xaxis": "x",
         "y": {
          "bdata": "iIiIiIgIHkDNzMzMzEwbQJmZmZmZmRZAVVVVVVXVE0BnZmZmZmYTQEVERERERCNA3d3d3d3dGkAAAAAAAAATQIiIiIiICBZAzczMzMzMF0Dd3d3d3d0XQA==",
          "dtype": "f8"
         },
         "yaxis": "y"
        },
        {
         "hovertemplate": "County=Shasta County<br>Year=%{x}<br>Unemployment Rate (%)=%{y}<extra></extra>",
         "legendgroup": "Shasta County",
         "line": {
          "color": "#00cc96",
          "dash": "solid"
         },
         "marker": {
          "symbol": "circle"
         },
         "mode": "lines+markers",
         "name": "Shasta County",
         "orientation": "v",
         "showlegend": true,
         "type": "scatter",
         "x": {
          "bdata": "3wfgB+EH4gfjB+QH5QfmB+cH6AfpBw==",
          "dtype": "i2"
         },
         "xaxis": "x",
         "y": {
          "bdata": "vLu7u7s7H0AzMzMzMzMbQLy7u7u7uxZAmpmZmZmZE0De3d3d3V0SQLy7u7u7+yBAERERERGRGkBnZmZmZuYRQN7d3d3dXRNAVVVVVVVVFUDv7u7u7u4UQA==",
          "dtype": "f8"
         },
         "yaxis": "y"
        },
        {
         "hovertemplate": "County=Solano County<br>Year=%{x}<br>Unemployment Rate (%)=%{y}<extra></extra>",
         "legendgroup": "Solano County",
         "line": {
          "color": "#ab63fa",
          "dash": "solid"
         },
         "marker": {
          "symbol": "circle"
         },
         "mode": "lines+markers",
         "name": "Solano County",
         "orientation": "v",
         "showlegend": true,
         "type": "scatter",
         "x": {
          "bdata": "3wfgB+EH4gfjB+QH5QfmB+cH6AfpBw==",
          "dtype": "i2"
         },
         "xaxis": "x",
         "y": {
          "bdata": "iIiIiIiIGECJiIiIiIgVQCIiIiIiohJA7+7u7u7uDkCrqqqqqqoNQBERERER0SJAZ2ZmZmbmHEB3d3d3d3cQQAAAAAAAgBFAd3d3d3f3E0AzMzMzMzMUQA==",
          "dtype": "f8"
         },
         "yaxis": "y"
        },
        {
         "hovertemplate": "County=Sonoma County<br>Year=%{x}<br>Unemployment Rate (%)=%{y}<extra></extra>",
         "legendgroup": "Sonoma County",
         "line": {
          "color": "#FFA15A",
          "dash": "solid"
         },
         "marker": {
          "symbol": "circle"
         },
         "mode": "lines+markers",
         "name": "Sonoma County",
         "orientation": "v",
         "showlegend": true,
         "type": "scatter",
         "x": {
          "bdata": "3wfgB+EH4gfjB+QH5QfmB+cH6AfpBw==",
          "dtype": "i2"
         },
         "xaxis": "x",
         "y": {
          "bdata": "d3d3d3f3EUAiIiIiIiIQQFVVVVVVVQtAZ2ZmZmZmBkDd3d3d3d0FQN7d3d3dXSBA3d3d3d1dFkCIiIiIiIgJQKuqqqqqqgxAd3d3d3d3EECZmZmZmZkQQA==",
          "dtype": "f8"
         },
         "yaxis": "y"
        },
        {
         "hovertemplate": "County=Stanislaus County<br>Year=%{x}<br>Unemployment Rate (%)=%{y}<extra></extra>",
         "legendgroup": "Stanislaus County",
         "line": {
          "color": "#19d3f3",
          "dash": "solid"
         },
         "marker": {
          "symbol": "circle"
         },
         "mode": "lines+markers",
         "name": "Stanislaus County",
         "orientation": "v",
         "showlegend": true,
         "type": "scatter",
         "x": {
          "bdata": "3wfgB+EH4gfjB+QH5QfmB+cH6AfpBw==",
          "dtype": "i2"
         },
         "xaxis": "x",
         "y": {
          "bdata": "REREREQEI0BEREREREQhQHh3d3d39x1AVVVVVVXVGUBEREREREQYQJmZmZmZmSVARERERESEIEAzMzMzM7MVQJmZmZmZGRlAERERERGRG0BVVVVVVVUbQA==",
          "dtype": "f8"
         },
         "yaxis": "y"
        },
        {
         "hovertemplate": "County=Sutter County; Yuba County<br>Year=%{x}<br>Unemployment Rate (%)=%{y}<extra></extra>",
         "legendgroup": "Sutter County; Yuba County",
         "line": {
          "color": "#FF6692",
          "dash": "solid"
         },
         "marker": {
          "symbol": "circle"
         },
         "mode": "lines+markers",
         "name": "Sutter County; Yuba County",
         "orientation": "v",
         "showlegend": true,
         "type": "scatter",
         "x": {
          "bdata": "3wfgB+EH4gfjB+QH5QfmB+cH6AfpBw==",
          "dtype": "i2"
         },
         "xaxis": "x",
         "y": {
          "bdata": "3t3d3d1dJECZmZmZmZkiQAAAAAAAgCBAMzMzMzOzHECrqqqqqqobQO/u7u7u7iVAiYiIiIiIIUAREREREREZQHh3d3d39xxAzczMzMxMH0BnZmZmZmYeQA==",
          "dtype": "f8"
         },
         "yaxis": "y"
        },
        {
         "hovertemplate": "County=Tulare County<br>Year=%{x}<br>Unemployment Rate (%)=%{y}<extra></extra>",
         "legendgroup": "Tulare County",
         "line": {
          "color": "#B6E880",
          "dash": "solid"
         },
         "marker": {
          "symbol": "circle"
         },
         "mode": "lines+markers",
         "name": "Tulare County",
         "orientation": "v",
         "showlegend": true,
         "type": "scatter",
         "x": {
          "bdata": "3wfgB+EH4gfjB+QH5QfmB+cH6AfpBw==",
          "dtype": "i2"
         },
         "xaxis": "x",
         "y": {
          "bdata": "zczMzMxMJ0BVVVVVVVUmQCIiIiIi4iRAvLu7u7t7I0AiIiIiImIjQM3MzMzMjCpAIiIiIiIiJUDv7u7u7m4gQEREREREhCNAeHd3d3e3JECJiIiIiIgkQA==",
          "dtype": "f8"
         },
         "yaxis": "y"
        },
        {
         "hovertemplate": "County=Ventura County<br>Year=%{x}<br>Unemployment Rate (%)=%{y}<extra></extra>",
         "legendgroup": "Ventura County",
         "line": {
          "color": "#FF97FF",
          "dash": "solid"
         },
         "marker": {
          "symbol": "circle"
         },
         "mode": "lines+markers",
         "name": "Ventura County",
         "orientation": "v",
         "showlegend": true,
         "type": "scatter",
         "x": {
          "bdata": "3wfgB+EH4gfjB+QH5QfmB+cH6AfpBw==",
          "dtype": "i2"
         },
         "xaxis": "x",
         "y": {
          "bdata": "IyIiIiKiFkCZmZmZmRkVQCIiIiIiIhJAvLu7u7u7DkAjIiIiIiINQHd3d3d3dyFA3d3d3d3dGEDNzMzMzMwNQCIiIiIiohBAZ2ZmZmZmEkDNzMzMzMwSQA==",
          "dtype": "f8"
         },
         "yaxis": "y"
        }
       ],
       "layout": {
        "hovermode": "x unified",
        "legend": {
         "title": {
          "text": "County"
         },
         "tracegroupgap": 0
        },
        "template": {
         "data": {
          "bar": [
           {
            "error_x": {
             "color": "#2a3f5f"
            },
            "error_y": {
             "color": "#2a3f5f"
            },
            "marker": {
             "line": {
              "color": "#E5ECF6",
              "width": 0.5
             },
             "pattern": {
              "fillmode": "overlay",
              "size": 10,
              "solidity": 0.2
             }
            },
            "type": "bar"
           }
          ],
          "barpolar": [
           {
            "marker": {
             "line": {
              "color": "#E5ECF6",
              "width": 0.5
             },
             "pattern": {
              "fillmode": "overlay",
              "size": 10,
              "solidity": 0.2
             }
            },
            "type": "barpolar"
           }
          ],
          "carpet": [
           {
            "aaxis": {
             "endlinecolor": "#2a3f5f",
             "gridcolor": "white",
             "linecolor": "white",
             "minorgridcolor": "white",
             "startlinecolor": "#2a3f5f"
            },
            "baxis": {
             "endlinecolor": "#2a3f5f",
             "gridcolor": "white",
             "linecolor": "white",
             "minorgridcolor": "white",
             "startlinecolor": "#2a3f5f"
            },
            "type": "carpet"
           }
          ],
          "choropleth": [
           {
            "colorbar": {
             "outlinewidth": 0,
             "ticks": ""
            },
            "type": "choropleth"
           }
          ],
          "contour": [
           {
            "colorbar": {
             "outlinewidth": 0,
             "ticks": ""
            },
            "colorscale": [
             [
              0,
              "#0d0887"
             ],
             [
              0.1111111111111111,
              "#46039f"
             ],
             [
              0.2222222222222222,
              "#7201a8"
             ],
             [
              0.3333333333333333,
              "#9c179e"
             ],
             [
              0.4444444444444444,
              "#bd3786"
             ],
             [
              0.5555555555555556,
              "#d8576b"
             ],
             [
              0.6666666666666666,
              "#ed7953"
             ],
             [
              0.7777777777777778,
              "#fb9f3a"
             ],
             [
              0.8888888888888888,
              "#fdca26"
             ],
             [
              1,
              "#f0f921"
             ]
            ],
            "type": "contour"
           }
          ],
          "contourcarpet": [
           {
            "colorbar": {
             "outlinewidth": 0,
             "ticks": ""
            },
            "type": "contourcarpet"
           }
          ],
          "heatmap": [
           {
            "colorbar": {
             "outlinewidth": 0,
             "ticks": ""
            },
            "colorscale": [
             [
              0,
              "#0d0887"
             ],
             [
              0.1111111111111111,
              "#46039f"
             ],
             [
              0.2222222222222222,
              "#7201a8"
             ],
             [
              0.3333333333333333,
              "#9c179e"
             ],
             [
              0.4444444444444444,
              "#bd3786"
             ],
             [
              0.5555555555555556,
              "#d8576b"
             ],
             [
              0.6666666666666666,
              "#ed7953"
             ],
             [
              0.7777777777777778,
              "#fb9f3a"
             ],
             [
              0.8888888888888888,
              "#fdca26"
             ],
             [
              1,
              "#f0f921"
             ]
            ],
            "type": "heatmap"
           }
          ],
          "histogram": [
           {
            "marker": {
             "pattern": {
              "fillmode": "overlay",
              "size": 10,
              "solidity": 0.2
             }
            },
            "type": "histogram"
           }
          ],
          "histogram2d": [
           {
            "colorbar": {
             "outlinewidth": 0,
             "ticks": ""
            },
            "colorscale": [
             [
              0,
              "#0d0887"
             ],
             [
              0.1111111111111111,
              "#46039f"
             ],
             [
              0.2222222222222222,
              "#7201a8"
             ],
             [
              0.3333333333333333,
              "#9c179e"
             ],
             [
              0.4444444444444444,
              "#bd3786"
             ],
             [
              0.5555555555555556,
              "#d8576b"
             ],
             [
              0.6666666666666666,
              "#ed7953"
             ],
             [
              0.7777777777777778,
              "#fb9f3a"
             ],
             [
              0.8888888888888888,
              "#fdca26"
             ],
             [
              1,
              "#f0f921"
             ]
            ],
            "type": "histogram2d"
           }
          ],
          "histogram2dcontour": [
           {
            "colorbar": {
             "outlinewidth": 0,
             "ticks": ""
            },
            "colorscale": [
             [
              0,
              "#0d0887"
             ],
             [
              0.1111111111111111,
              "#46039f"
             ],
             [
              0.2222222222222222,
              "#7201a8"
             ],
             [
              0.3333333333333333,
              "#9c179e"
             ],
             [
              0.4444444444444444,
              "#bd3786"
             ],
             [
              0.5555555555555556,
              "#d8576b"
             ],
             [
              0.6666666666666666,
              "#ed7953"
             ],
             [
              0.7777777777777778,
              "#fb9f3a"
             ],
             [
              0.8888888888888888,
              "#fdca26"
             ],
             [
              1,
              "#f0f921"
             ]
            ],
            "type": "histogram2dcontour"
           }
          ],
          "mesh3d": [
           {
            "colorbar": {
             "outlinewidth": 0,
             "ticks": ""
            },
            "type": "mesh3d"
           }
          ],
          "parcoords": [
           {
            "line": {
             "colorbar": {
              "outlinewidth": 0,
              "ticks": ""
             }
            },
            "type": "parcoords"
           }
          ],
          "pie": [
           {
            "automargin": true,
            "type": "pie"
           }
          ],
          "scatter": [
           {
            "fillpattern": {
             "fillmode": "overlay",
             "size": 10,
             "solidity": 0.2
            },
            "type": "scatter"
           }
          ],
          "scatter3d": [
           {
            "line": {
             "colorbar": {
              "outlinewidth": 0,
              "ticks": ""
             }
            },
            "marker": {
             "colorbar": {
              "outlinewidth": 0,
              "ticks": ""
             }
            },
            "type": "scatter3d"
           }
          ],
          "scattercarpet": [
           {
            "marker": {
             "colorbar": {
              "outlinewidth": 0,
              "ticks": ""
             }
            },
            "type": "scattercarpet"
           }
          ],
          "scattergeo": [
           {
            "marker": {
             "colorbar": {
              "outlinewidth": 0,
              "ticks": ""
             }
            },
            "type": "scattergeo"
           }
          ],
          "scattergl": [
           {
            "marker": {
             "colorbar": {
              "outlinewidth": 0,
              "ticks": ""
             }
            },
            "type": "scattergl"
           }
          ],
          "scattermap": [
           {
            "marker": {
             "colorbar": {
              "outlinewidth": 0,
              "ticks": ""
             }
            },
            "type": "scattermap"
           }
          ],
          "scattermapbox": [
           {
            "marker": {
             "colorbar": {
              "outlinewidth": 0,
              "ticks": ""
             }
            },
            "type": "scattermapbox"
           }
          ],
          "scatterpolar": [
           {
            "marker": {
             "colorbar": {
              "outlinewidth": 0,
              "ticks": ""
             }
            },
            "type": "scatterpolar"
           }
          ],
          "scatterpolargl": [
           {
            "marker": {
             "colorbar": {
              "outlinewidth": 0,
              "ticks": ""
             }
            },
            "type": "scatterpolargl"
           }
          ],
          "scatterternary": [
           {
            "marker": {
             "colorbar": {
              "outlinewidth": 0,
              "ticks": ""
             }
            },
            "type": "scatterternary"
           }
          ],
          "surface": [
           {
            "colorbar": {
             "outlinewidth": 0,
             "ticks": ""
            },
            "colorscale": [
             [
              0,
              "#0d0887"
             ],
             [
              0.1111111111111111,
              "#46039f"
             ],
             [
              0.2222222222222222,
              "#7201a8"
             ],
             [
              0.3333333333333333,
              "#9c179e"
             ],
             [
              0.4444444444444444,
              "#bd3786"
             ],
             [
              0.5555555555555556,
              "#d8576b"
             ],
             [
              0.6666666666666666,
              "#ed7953"
             ],
             [
              0.7777777777777778,
              "#fb9f3a"
             ],
             [
              0.8888888888888888,
              "#fdca26"
             ],
             [
              1,
              "#f0f921"
             ]
            ],
            "type": "surface"
           }
          ],
          "table": [
           {
            "cells": {
             "fill": {
              "color": "#EBF0F8"
             },
             "line": {
              "color": "white"
             }
            },
            "header": {
             "fill": {
              "color": "#C8D4E3"
             },
             "line": {
              "color": "white"
             }
            },
            "type": "table"
           }
          ]
         },
         "layout": {
          "annotationdefaults": {
           "arrowcolor": "#2a3f5f",
           "arrowhead": 0,
           "arrowwidth": 1
          },
          "autotypenumbers": "strict",
          "coloraxis": {
           "colorbar": {
            "outlinewidth": 0,
            "ticks": ""
           }
          },
          "colorscale": {
           "diverging": [
            [
             0,
             "#8e0152"
            ],
            [
             0.1,
             "#c51b7d"
            ],
            [
             0.2,
             "#de77ae"
            ],
            [
             0.3,
             "#f1b6da"
            ],
            [
             0.4,
             "#fde0ef"
            ],
            [
             0.5,
             "#f7f7f7"
            ],
            [
             0.6,
             "#e6f5d0"
            ],
            [
             0.7,
             "#b8e186"
            ],
            [
             0.8,
             "#7fbc41"
            ],
            [
             0.9,
             "#4d9221"
            ],
            [
             1,
             "#276419"
            ]
           ],
           "sequential": [
            [
             0,
             "#0d0887"
            ],
            [
             0.1111111111111111,
             "#46039f"
            ],
            [
             0.2222222222222222,
             "#7201a8"
            ],
            [
             0.3333333333333333,
             "#9c179e"
            ],
            [
             0.4444444444444444,
             "#bd3786"
            ],
            [
             0.5555555555555556,
             "#d8576b"
            ],
            [
             0.6666666666666666,
             "#ed7953"
            ],
            [
             0.7777777777777778,
             "#fb9f3a"
            ],
            [
             0.8888888888888888,
             "#fdca26"
            ],
            [
             1,
             "#f0f921"
            ]
           ],
           "sequentialminus": [
            [
             0,
             "#0d0887"
            ],
            [
             0.1111111111111111,
             "#46039f"
            ],
            [
             0.2222222222222222,
             "#7201a8"
            ],
            [
             0.3333333333333333,
             "#9c179e"
            ],
            [
             0.4444444444444444,
             "#bd3786"
            ],
            [
             0.5555555555555556,
             "#d8576b"
            ],
            [
             0.6666666666666666,
             "#ed7953"
            ],
            [
             0.7777777777777778,
             "#fb9f3a"
            ],
            [
             0.8888888888888888,
             "#fdca26"
            ],
            [
             1,
             "#f0f921"
            ]
           ]
          },
          "colorway": [
           "#636efa",
           "#EF553B",
           "#00cc96",
           "#ab63fa",
           "#FFA15A",
           "#19d3f3",
           "#FF6692",
           "#B6E880",
           "#FF97FF",
           "#FECB52"
          ],
          "font": {
           "color": "#2a3f5f"
          },
          "geo": {
           "bgcolor": "white",
           "lakecolor": "white",
           "landcolor": "#E5ECF6",
           "showlakes": true,
           "showland": true,
           "subunitcolor": "white"
          },
          "hoverlabel": {
           "align": "left"
          },
          "hovermode": "closest",
          "mapbox": {
           "style": "light"
          },
          "paper_bgcolor": "white",
          "plot_bgcolor": "#E5ECF6",
          "polar": {
           "angularaxis": {
            "gridcolor": "white",
            "linecolor": "white",
            "ticks": ""
           },
           "bgcolor": "#E5ECF6",
           "radialaxis": {
            "gridcolor": "white",
            "linecolor": "white",
            "ticks": ""
           }
          },
          "scene": {
           "xaxis": {
            "backgroundcolor": "#E5ECF6",
            "gridcolor": "white",
            "gridwidth": 2,
            "linecolor": "white",
            "showbackground": true,
            "ticks": "",
            "zerolinecolor": "white"
           },
           "yaxis": {
            "backgroundcolor": "#E5ECF6",
            "gridcolor": "white",
            "gridwidth": 2,
            "linecolor": "white",
            "showbackground": true,
            "ticks": "",
            "zerolinecolor": "white"
           },
           "zaxis": {
            "backgroundcolor": "#E5ECF6",
            "gridcolor": "white",
            "gridwidth": 2,
            "linecolor": "white",
            "showbackground": true,
            "ticks": "",
            "zerolinecolor": "white"
           }
          },
          "shapedefaults": {
           "line": {
            "color": "#2a3f5f"
           }
          },
          "ternary": {
           "aaxis": {
            "gridcolor": "white",
            "linecolor": "white",
            "ticks": ""
           },
           "baxis": {
            "gridcolor": "white",
            "linecolor": "white",
            "ticks": ""
           },
           "bgcolor": "#E5ECF6",
           "caxis": {
            "gridcolor": "white",
            "linecolor": "white",
            "ticks": ""
           }
          },
          "title": {
           "x": 0.05
          },
          "xaxis": {
           "automargin": true,
           "gridcolor": "white",
           "linecolor": "white",
           "ticks": "",
           "title": {
            "standoff": 15
           },
           "zerolinecolor": "white",
           "zerolinewidth": 2
          },
          "yaxis": {
           "automargin": true,
           "gridcolor": "white",
           "linecolor": "white",
           "ticks": "",
           "title": {
            "standoff": 15
           },
           "zerolinecolor": "white",
           "zerolinewidth": 2
          }
         }
        },
        "title": {
         "text": "County-Level Unemployment Comparison (2015–2025)"
        },
        "xaxis": {
         "anchor": "y",
         "domain": [
          0,
          1
         ],
         "title": {
          "text": "Year"
         }
        },
        "yaxis": {
         "anchor": "x",
         "domain": [
          0,
          1
         ],
         "title": {
          "text": "Unemployment Rate (%)"
         }
        }
       }
      }
     },
     "metadata": {},
     "output_type": "display_data"
    }
   ],
   "source": [
    "import pandas as pd\n",
    "import plotly.express as px\n",
    "import numpy as np\n",
    "\n",
    "df = pd.read_csv(\"../data/cleaned_data_notebook.csv\")\n",
    "df['Unemployment Rate'] = (\n",
    "    df['Unemployment Rate']\n",
    "    .astype(str)\n",
    "    .str.replace('%', '', regex=False)\n",
    "    .str.strip()\n",
    "    .replace('', np.nan)\n",
    "    .astype(float)\n",
    ")\n",
    "\n",
    "county_trends = df.groupby([\"Year\", \"County\"])[\"Unemployment Rate\"].mean().reset_index()\n",
    "print(county_trends.head())\n",
    "\n",
    "# County Unemployment Trends by Year\n",
    "fig1 = px.line(\n",
    "    county_trends,\n",
    "    x=\"Year\",\n",
    "    y=\"Unemployment Rate\",\n",
    "    color=\"County\",\n",
    "    markers=True,\n",
    "    title=\"County-Level Unemployment Comparison (2015–2025)\",\n",
    "    labels={\"Unemployment Rate\": \"Unemployment Rate (%)\"}\n",
    ")\n",
    "fig1.update_layout(legend_title=\"County\", hovermode=\"x unified\")\n",
    "fig1.show()"
   ]
  },
  {
   "cell_type": "code",
   "execution_count": null,
   "id": "8cb1bcd4",
   "metadata": {},
   "outputs": [
    {
     "data": {
      "application/vnd.plotly.v1+json": {
       "config": {
        "plotlyServerURL": "https://plot.ly"
       },
       "data": [
        {
         "hovertemplate": "Region=Bay Area<br>Year=%{x}<br>Unemployment Rate (%)=%{y}<extra></extra>",
         "legendgroup": "Bay Area",
         "line": {
          "color": "#636efa",
          "dash": "solid"
         },
         "marker": {
          "symbol": "circle"
         },
         "mode": "lines+markers",
         "name": "Bay Area",
         "orientation": "v",
         "showlegend": true,
         "type": "scatter",
         "x": {
          "bdata": "3wfgB+EH4gfjB+QH5QfmB+cH6AfpBw==",
          "dtype": "i2"
         },
         "xaxis": "x",
         "y": {
          "bdata": "7+7u7u7eEUDe3d3d3W0QQO/u7u7uTgxAAAAAAABgB0AzMzMzM1MGQBERERERkSBAMzMzMzPTFkC8u7u7uzsJQKuqqqqqKg1Ad3d3d3fHEEBVVVVVVfUQQA==",
          "dtype": "f8"
         },
         "yaxis": "y"
        },
        {
         "hovertemplate": "Region=Central Coast<br>Year=%{x}<br>Unemployment Rate (%)=%{y}<extra></extra>",
         "legendgroup": "Central Coast",
         "line": {
          "color": "#EF553B",
          "dash": "solid"
         },
         "marker": {
          "symbol": "circle"
         },
         "mode": "lines+markers",
         "name": "Central Coast",
         "orientation": "v",
         "showlegend": true,
         "type": "scatter",
         "x": {
          "bdata": "3wfgB+EH4gfjB+QH5QfmB+cH6AfpBw==",
          "dtype": "i2"
         },
         "xaxis": "x",
         "y": {
          "bdata": "ERERERGxGUBEREREREQYQGdmZmZmRhVAERERERGREkBVVVVVVfURQImIiIiIqCJAmZmZmZl5GkBnZmZmZsYRQImIiIiIKBRAq6qqqqrKFUDv7u7u7q4VQA==",
          "dtype": "f8"
         },
         "yaxis": "y"
        },
        {
         "hovertemplate": "Region=Central Valley<br>Year=%{x}<br>Unemployment Rate (%)=%{y}<extra></extra>",
         "legendgroup": "Central Valley",
         "line": {
          "color": "#00cc96",
          "dash": "solid"
         },
         "marker": {
          "symbol": "circle"
         },
         "mode": "lines+markers",
         "name": "Central Valley",
         "orientation": "v",
         "showlegend": true,
         "type": "scatter",
         "x": {
          "bdata": "3wfgB+EH4gfjB+QH5QfmB+cH6AfpBw==",
          "dtype": "i2"
         },
         "xaxis": "x",
         "y": {
          "bdata": "ghM4gRO4JEA1WqM1WqMjQDuogzqogyFANVqjNVojH0B9xVd8xVceQBut0RqtEShAYhiGYRgGI0BVVVVVVVUbQI7WaI3WaB9ArdEardHaIECVS7mUS7kgQA==",
          "dtype": "f8"
         },
         "yaxis": "y"
        },
        {
         "hovertemplate": "Region=Inland Empire<br>Year=%{x}<br>Unemployment Rate (%)=%{y}<extra></extra>",
         "legendgroup": "Inland Empire",
         "line": {
          "color": "#ab63fa",
          "dash": "solid"
         },
         "marker": {
          "symbol": "circle"
         },
         "mode": "lines+markers",
         "name": "Inland Empire",
         "orientation": "v",
         "showlegend": true,
         "type": "scatter",
         "x": {
          "bdata": "3wfgB+EH4gfjB+QH5QfmB+cH6AfpBw==",
          "dtype": "i2"
         },
         "xaxis": "x",
         "y": {
          "bdata": "3d3d3d1dGkDNzMzMzEwYQM3MzMzMzBRA3t3d3d1dEUDNzMzMzEwQQAAAAAAAwCNA3d3d3d3dHUDv7u7u7u4QQLy7u7u7uxJAZ2ZmZmbmFEDv7u7u7u4UQA==",
          "dtype": "f8"
         },
         "yaxis": "y"
        },
        {
         "hovertemplate": "Region=Northern California<br>Year=%{x}<br>Unemployment Rate (%)=%{y}<extra></extra>",
         "legendgroup": "Northern California",
         "line": {
          "color": "#FFA15A",
          "dash": "solid"
         },
         "marker": {
          "symbol": "circle"
         },
         "mode": "lines+markers",
         "name": "Northern California",
         "orientation": "v",
         "showlegend": true,
         "type": "scatter",
         "x": {
          "bdata": "3wfgB+EH4gfjB+QH5QfmB+cH6AfpBw==",
          "dtype": "i2"
         },
         "xaxis": "x",
         "y": {
          "bdata": "ERERERERH0BnZmZmZgYcQFVVVVVVVRhAAAAAAADgFEAzMzMzMxMUQCIiIiIi0iJAvLu7u7u7HEBVVVVVVRUTQJmZmZmZeRVAAAAAAADAF0BVVVVVVVUXQA==",
          "dtype": "f8"
         },
         "yaxis": "y"
        },
        {
         "hovertemplate": "Region=Southern California<br>Year=%{x}<br>Unemployment Rate (%)=%{y}<extra></extra>",
         "legendgroup": "Southern California",
         "line": {
          "color": "#19d3f3",
          "dash": "solid"
         },
         "marker": {
          "symbol": "circle"
         },
         "mode": "lines+markers",
         "name": "Southern California",
         "orientation": "v",
         "showlegend": true,
         "type": "scatter",
         "x": {
          "bdata": "3wfgB+EH4gfjB+QH5QfmB+cH6AfpBw==",
          "dtype": "i2"
         },
         "xaxis": "x",
         "y": {
          "bdata": "v1jyiyV/IkAiIiIiImIhQKuqqqqqKh1AMzMzMzOzGkA6baDTBrobQNejcD0KlyhAMzMzMzPzIUAXS36x5BcYQFyPwvUo3BpAxpJfLPlFHUCamZmZmZkdQA==",
          "dtype": "f8"
         },
         "yaxis": "y"
        }
       ],
       "layout": {
        "hovermode": "x unified",
        "legend": {
         "title": {
          "text": "Region"
         },
         "tracegroupgap": 0
        },
        "template": {
         "data": {
          "bar": [
           {
            "error_x": {
             "color": "#2a3f5f"
            },
            "error_y": {
             "color": "#2a3f5f"
            },
            "marker": {
             "line": {
              "color": "#E5ECF6",
              "width": 0.5
             },
             "pattern": {
              "fillmode": "overlay",
              "size": 10,
              "solidity": 0.2
             }
            },
            "type": "bar"
           }
          ],
          "barpolar": [
           {
            "marker": {
             "line": {
              "color": "#E5ECF6",
              "width": 0.5
             },
             "pattern": {
              "fillmode": "overlay",
              "size": 10,
              "solidity": 0.2
             }
            },
            "type": "barpolar"
           }
          ],
          "carpet": [
           {
            "aaxis": {
             "endlinecolor": "#2a3f5f",
             "gridcolor": "white",
             "linecolor": "white",
             "minorgridcolor": "white",
             "startlinecolor": "#2a3f5f"
            },
            "baxis": {
             "endlinecolor": "#2a3f5f",
             "gridcolor": "white",
             "linecolor": "white",
             "minorgridcolor": "white",
             "startlinecolor": "#2a3f5f"
            },
            "type": "carpet"
           }
          ],
          "choropleth": [
           {
            "colorbar": {
             "outlinewidth": 0,
             "ticks": ""
            },
            "type": "choropleth"
           }
          ],
          "contour": [
           {
            "colorbar": {
             "outlinewidth": 0,
             "ticks": ""
            },
            "colorscale": [
             [
              0,
              "#0d0887"
             ],
             [
              0.1111111111111111,
              "#46039f"
             ],
             [
              0.2222222222222222,
              "#7201a8"
             ],
             [
              0.3333333333333333,
              "#9c179e"
             ],
             [
              0.4444444444444444,
              "#bd3786"
             ],
             [
              0.5555555555555556,
              "#d8576b"
             ],
             [
              0.6666666666666666,
              "#ed7953"
             ],
             [
              0.7777777777777778,
              "#fb9f3a"
             ],
             [
              0.8888888888888888,
              "#fdca26"
             ],
             [
              1,
              "#f0f921"
             ]
            ],
            "type": "contour"
           }
          ],
          "contourcarpet": [
           {
            "colorbar": {
             "outlinewidth": 0,
             "ticks": ""
            },
            "type": "contourcarpet"
           }
          ],
          "heatmap": [
           {
            "colorbar": {
             "outlinewidth": 0,
             "ticks": ""
            },
            "colorscale": [
             [
              0,
              "#0d0887"
             ],
             [
              0.1111111111111111,
              "#46039f"
             ],
             [
              0.2222222222222222,
              "#7201a8"
             ],
             [
              0.3333333333333333,
              "#9c179e"
             ],
             [
              0.4444444444444444,
              "#bd3786"
             ],
             [
              0.5555555555555556,
              "#d8576b"
             ],
             [
              0.6666666666666666,
              "#ed7953"
             ],
             [
              0.7777777777777778,
              "#fb9f3a"
             ],
             [
              0.8888888888888888,
              "#fdca26"
             ],
             [
              1,
              "#f0f921"
             ]
            ],
            "type": "heatmap"
           }
          ],
          "histogram": [
           {
            "marker": {
             "pattern": {
              "fillmode": "overlay",
              "size": 10,
              "solidity": 0.2
             }
            },
            "type": "histogram"
           }
          ],
          "histogram2d": [
           {
            "colorbar": {
             "outlinewidth": 0,
             "ticks": ""
            },
            "colorscale": [
             [
              0,
              "#0d0887"
             ],
             [
              0.1111111111111111,
              "#46039f"
             ],
             [
              0.2222222222222222,
              "#7201a8"
             ],
             [
              0.3333333333333333,
              "#9c179e"
             ],
             [
              0.4444444444444444,
              "#bd3786"
             ],
             [
              0.5555555555555556,
              "#d8576b"
             ],
             [
              0.6666666666666666,
              "#ed7953"
             ],
             [
              0.7777777777777778,
              "#fb9f3a"
             ],
             [
              0.8888888888888888,
              "#fdca26"
             ],
             [
              1,
              "#f0f921"
             ]
            ],
            "type": "histogram2d"
           }
          ],
          "histogram2dcontour": [
           {
            "colorbar": {
             "outlinewidth": 0,
             "ticks": ""
            },
            "colorscale": [
             [
              0,
              "#0d0887"
             ],
             [
              0.1111111111111111,
              "#46039f"
             ],
             [
              0.2222222222222222,
              "#7201a8"
             ],
             [
              0.3333333333333333,
              "#9c179e"
             ],
             [
              0.4444444444444444,
              "#bd3786"
             ],
             [
              0.5555555555555556,
              "#d8576b"
             ],
             [
              0.6666666666666666,
              "#ed7953"
             ],
             [
              0.7777777777777778,
              "#fb9f3a"
             ],
             [
              0.8888888888888888,
              "#fdca26"
             ],
             [
              1,
              "#f0f921"
             ]
            ],
            "type": "histogram2dcontour"
           }
          ],
          "mesh3d": [
           {
            "colorbar": {
             "outlinewidth": 0,
             "ticks": ""
            },
            "type": "mesh3d"
           }
          ],
          "parcoords": [
           {
            "line": {
             "colorbar": {
              "outlinewidth": 0,
              "ticks": ""
             }
            },
            "type": "parcoords"
           }
          ],
          "pie": [
           {
            "automargin": true,
            "type": "pie"
           }
          ],
          "scatter": [
           {
            "fillpattern": {
             "fillmode": "overlay",
             "size": 10,
             "solidity": 0.2
            },
            "type": "scatter"
           }
          ],
          "scatter3d": [
           {
            "line": {
             "colorbar": {
              "outlinewidth": 0,
              "ticks": ""
             }
            },
            "marker": {
             "colorbar": {
              "outlinewidth": 0,
              "ticks": ""
             }
            },
            "type": "scatter3d"
           }
          ],
          "scattercarpet": [
           {
            "marker": {
             "colorbar": {
              "outlinewidth": 0,
              "ticks": ""
             }
            },
            "type": "scattercarpet"
           }
          ],
          "scattergeo": [
           {
            "marker": {
             "colorbar": {
              "outlinewidth": 0,
              "ticks": ""
             }
            },
            "type": "scattergeo"
           }
          ],
          "scattergl": [
           {
            "marker": {
             "colorbar": {
              "outlinewidth": 0,
              "ticks": ""
             }
            },
            "type": "scattergl"
           }
          ],
          "scattermap": [
           {
            "marker": {
             "colorbar": {
              "outlinewidth": 0,
              "ticks": ""
             }
            },
            "type": "scattermap"
           }
          ],
          "scattermapbox": [
           {
            "marker": {
             "colorbar": {
              "outlinewidth": 0,
              "ticks": ""
             }
            },
            "type": "scattermapbox"
           }
          ],
          "scatterpolar": [
           {
            "marker": {
             "colorbar": {
              "outlinewidth": 0,
              "ticks": ""
             }
            },
            "type": "scatterpolar"
           }
          ],
          "scatterpolargl": [
           {
            "marker": {
             "colorbar": {
              "outlinewidth": 0,
              "ticks": ""
             }
            },
            "type": "scatterpolargl"
           }
          ],
          "scatterternary": [
           {
            "marker": {
             "colorbar": {
              "outlinewidth": 0,
              "ticks": ""
             }
            },
            "type": "scatterternary"
           }
          ],
          "surface": [
           {
            "colorbar": {
             "outlinewidth": 0,
             "ticks": ""
            },
            "colorscale": [
             [
              0,
              "#0d0887"
             ],
             [
              0.1111111111111111,
              "#46039f"
             ],
             [
              0.2222222222222222,
              "#7201a8"
             ],
             [
              0.3333333333333333,
              "#9c179e"
             ],
             [
              0.4444444444444444,
              "#bd3786"
             ],
             [
              0.5555555555555556,
              "#d8576b"
             ],
             [
              0.6666666666666666,
              "#ed7953"
             ],
             [
              0.7777777777777778,
              "#fb9f3a"
             ],
             [
              0.8888888888888888,
              "#fdca26"
             ],
             [
              1,
              "#f0f921"
             ]
            ],
            "type": "surface"
           }
          ],
          "table": [
           {
            "cells": {
             "fill": {
              "color": "#EBF0F8"
             },
             "line": {
              "color": "white"
             }
            },
            "header": {
             "fill": {
              "color": "#C8D4E3"
             },
             "line": {
              "color": "white"
             }
            },
            "type": "table"
           }
          ]
         },
         "layout": {
          "annotationdefaults": {
           "arrowcolor": "#2a3f5f",
           "arrowhead": 0,
           "arrowwidth": 1
          },
          "autotypenumbers": "strict",
          "coloraxis": {
           "colorbar": {
            "outlinewidth": 0,
            "ticks": ""
           }
          },
          "colorscale": {
           "diverging": [
            [
             0,
             "#8e0152"
            ],
            [
             0.1,
             "#c51b7d"
            ],
            [
             0.2,
             "#de77ae"
            ],
            [
             0.3,
             "#f1b6da"
            ],
            [
             0.4,
             "#fde0ef"
            ],
            [
             0.5,
             "#f7f7f7"
            ],
            [
             0.6,
             "#e6f5d0"
            ],
            [
             0.7,
             "#b8e186"
            ],
            [
             0.8,
             "#7fbc41"
            ],
            [
             0.9,
             "#4d9221"
            ],
            [
             1,
             "#276419"
            ]
           ],
           "sequential": [
            [
             0,
             "#0d0887"
            ],
            [
             0.1111111111111111,
             "#46039f"
            ],
            [
             0.2222222222222222,
             "#7201a8"
            ],
            [
             0.3333333333333333,
             "#9c179e"
            ],
            [
             0.4444444444444444,
             "#bd3786"
            ],
            [
             0.5555555555555556,
             "#d8576b"
            ],
            [
             0.6666666666666666,
             "#ed7953"
            ],
            [
             0.7777777777777778,
             "#fb9f3a"
            ],
            [
             0.8888888888888888,
             "#fdca26"
            ],
            [
             1,
             "#f0f921"
            ]
           ],
           "sequentialminus": [
            [
             0,
             "#0d0887"
            ],
            [
             0.1111111111111111,
             "#46039f"
            ],
            [
             0.2222222222222222,
             "#7201a8"
            ],
            [
             0.3333333333333333,
             "#9c179e"
            ],
            [
             0.4444444444444444,
             "#bd3786"
            ],
            [
             0.5555555555555556,
             "#d8576b"
            ],
            [
             0.6666666666666666,
             "#ed7953"
            ],
            [
             0.7777777777777778,
             "#fb9f3a"
            ],
            [
             0.8888888888888888,
             "#fdca26"
            ],
            [
             1,
             "#f0f921"
            ]
           ]
          },
          "colorway": [
           "#636efa",
           "#EF553B",
           "#00cc96",
           "#ab63fa",
           "#FFA15A",
           "#19d3f3",
           "#FF6692",
           "#B6E880",
           "#FF97FF",
           "#FECB52"
          ],
          "font": {
           "color": "#2a3f5f"
          },
          "geo": {
           "bgcolor": "white",
           "lakecolor": "white",
           "landcolor": "#E5ECF6",
           "showlakes": true,
           "showland": true,
           "subunitcolor": "white"
          },
          "hoverlabel": {
           "align": "left"
          },
          "hovermode": "closest",
          "mapbox": {
           "style": "light"
          },
          "paper_bgcolor": "white",
          "plot_bgcolor": "#E5ECF6",
          "polar": {
           "angularaxis": {
            "gridcolor": "white",
            "linecolor": "white",
            "ticks": ""
           },
           "bgcolor": "#E5ECF6",
           "radialaxis": {
            "gridcolor": "white",
            "linecolor": "white",
            "ticks": ""
           }
          },
          "scene": {
           "xaxis": {
            "backgroundcolor": "#E5ECF6",
            "gridcolor": "white",
            "gridwidth": 2,
            "linecolor": "white",
            "showbackground": true,
            "ticks": "",
            "zerolinecolor": "white"
           },
           "yaxis": {
            "backgroundcolor": "#E5ECF6",
            "gridcolor": "white",
            "gridwidth": 2,
            "linecolor": "white",
            "showbackground": true,
            "ticks": "",
            "zerolinecolor": "white"
           },
           "zaxis": {
            "backgroundcolor": "#E5ECF6",
            "gridcolor": "white",
            "gridwidth": 2,
            "linecolor": "white",
            "showbackground": true,
            "ticks": "",
            "zerolinecolor": "white"
           }
          },
          "shapedefaults": {
           "line": {
            "color": "#2a3f5f"
           }
          },
          "ternary": {
           "aaxis": {
            "gridcolor": "white",
            "linecolor": "white",
            "ticks": ""
           },
           "baxis": {
            "gridcolor": "white",
            "linecolor": "white",
            "ticks": ""
           },
           "bgcolor": "#E5ECF6",
           "caxis": {
            "gridcolor": "white",
            "linecolor": "white",
            "ticks": ""
           }
          },
          "title": {
           "x": 0.05
          },
          "xaxis": {
           "automargin": true,
           "gridcolor": "white",
           "linecolor": "white",
           "ticks": "",
           "title": {
            "standoff": 15
           },
           "zerolinecolor": "white",
           "zerolinewidth": 2
          },
          "yaxis": {
           "automargin": true,
           "gridcolor": "white",
           "linecolor": "white",
           "ticks": "",
           "title": {
            "standoff": 15
           },
           "zerolinecolor": "white",
           "zerolinewidth": 2
          }
         }
        },
        "title": {
         "text": "Regional Unemployment Trends (2015–2025)"
        },
        "xaxis": {
         "anchor": "y",
         "domain": [
          0,
          1
         ],
         "dtick": 1,
         "title": {
          "text": "Year"
         }
        },
        "yaxis": {
         "anchor": "x",
         "domain": [
          0,
          1
         ],
         "title": {
          "text": "Unemployment Rate (%)"
         }
        }
       }
      }
     },
     "metadata": {},
     "output_type": "display_data"
    }
   ],
   "source": [
    "# Regional Unemployment Trends by Year\n",
    "region_trends = df.groupby([\"Year\", \"Region\"])[\"Unemployment Rate\"].mean().reset_index()\n",
    "\n",
    "fig3 = px.line(\n",
    "    region_trends,\n",
    "    x=\"Year\",\n",
    "    y=\"Unemployment Rate\",\n",
    "    color=\"Region\",\n",
    "    markers=True,\n",
    "    title=\"Regional Unemployment Trends (2015–2025)\",\n",
    "    labels={\"Unemployment Rate\": \"Unemployment Rate (%)\"}\n",
    ")\n",
    "fig3.update_layout(\n",
    "    legend_title=\"Region\",\n",
    "    hovermode=\"x unified\",\n",
    "    xaxis=dict(dtick=1)\n",
    ")\n",
    "fig3.show()"
   ]
  },
  {
   "cell_type": "markdown",
   "id": "c55e9655",
   "metadata": {},
   "source": [
    "## Insights\n",
    "\n",
    "From the visualizations we observe:  \n",
    "- **Unemployment spikes in 2020** across nearly all counties and regions (COVID-19).  \n",
    "- **Central Valley counties** consistently show higher unemployment and greater volatility than coastal regions.  \n",
    "- **Bay Area and Northern California** tend to have lower unemployment rates compared to Southern California.  \n",
    "- **Regional disparities persist**, with Inland Empire and Central Valley trailing behind other regions.  \n",
    "\n",
    "---\n",
    "\n",
    "## Conclusion\n",
    "\n",
    "This notebook demonstrates how California LAUS data can be:  \n",
    "- **Cleaned and standardized** for long-term analysis (2015–2025).  \n",
    "- **Mapped from raw area names** to counties and broader regions.  \n",
    "- **Explored interactively** with dynamic visualizations that replicate and enhance the Excel dashboard.\n",
    "\n",
    "### Next Steps\n",
    "- Add **forecasting models** (ARIMA, Prophet) to predict unemployment trends.  \n",
    "- Combine LAUS with **Census demographic data** to analyze socioeconomic factors.  \n",
    "- Build a full **interactive dashboard app** (using Plotly Dash or Streamlit) for stakeholders.  \n"
   ]
  }
 ],
 "metadata": {
  "kernelspec": {
   "display_name": "Python 3",
   "language": "python",
   "name": "python3"
  },
  "language_info": {
   "codemirror_mode": {
    "name": "ipython",
    "version": 3
   },
   "file_extension": ".py",
   "mimetype": "text/x-python",
   "name": "python",
   "nbconvert_exporter": "python",
   "pygments_lexer": "ipython3",
   "version": "3.13.6"
  }
 },
 "nbformat": 4,
 "nbformat_minor": 5
}
